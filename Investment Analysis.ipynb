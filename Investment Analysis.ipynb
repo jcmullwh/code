{
 "cells": [
  {
   "cell_type": "code",
   "execution_count": 1,
   "metadata": {},
   "outputs": [],
   "source": [
    "import pandas as pd\n",
    "import py\n",
    "import yfinance as yf\n",
    "from datetime import datetime \n",
    "from functools import reduce"
   ]
  },
  {
   "cell_type": "code",
   "execution_count": 334,
   "metadata": {},
   "outputs": [],
   "source": [
    "path = 'File to read'\n",
    "df = pd.read_csv(path,thousands=',')"
   ]
  },
  {
   "cell_type": "code",
   "execution_count": 336,
   "metadata": {},
   "outputs": [],
   "source": [
    "df['DATE'] = pd.to_datetime(df['DATE'])"
   ]
  },
  {
   "cell_type": "code",
   "execution_count": 341,
   "metadata": {},
   "outputs": [],
   "source": [
    "import yfinance as yf\n",
    "tickers = 'IVV'\n",
    "start_date = '2016-10-01'\n",
    "end_date = '2021-01-31'\n",
    "freq = '1d'"
   ]
  },
  {
   "cell_type": "code",
   "execution_count": 342,
   "metadata": {},
   "outputs": [
    {
     "name": "stdout",
     "output_type": "stream",
     "text": [
      "[*********************100%***********************]  1 of 1 completed\n"
     ]
    }
   ],
   "source": [
    "ivv_df = yf.download(tickers, start = start_date, end = end_date, interval = freq, actions = \"inline\")"
   ]
  },
  {
   "cell_type": "code",
   "execution_count": 344,
   "metadata": {},
   "outputs": [],
   "source": [
    "ivv_df = ivv_df.reset_index()"
   ]
  },
  {
   "cell_type": "code",
   "execution_count": 345,
   "metadata": {},
   "outputs": [],
   "source": [
    "consolidate_df = ivv_df.merge(df,how='left',left_on='Date',right_on='DATE')"
   ]
  },
  {
   "cell_type": "code",
   "execution_count": 21,
   "metadata": {},
   "outputs": [],
   "source": [
    "pd.set_option('display.max_rows', None)"
   ]
  },
  {
   "cell_type": "code",
   "execution_count": 347,
   "metadata": {},
   "outputs": [],
   "source": [
    "consolidate_df = consolidate_df.drop(['DATE'], axis=1)"
   ]
  },
  {
   "cell_type": "code",
   "execution_count": 348,
   "metadata": {},
   "outputs": [],
   "source": [
    "consolidate_df = consolidate_df[['Date','TRANSACTION','TICKER','DESCRIPTION','SHARES','CASH','Open','Dividends','Stock Splits']]"
   ]
  },
  {
   "cell_type": "code",
   "execution_count": 349,
   "metadata": {},
   "outputs": [],
   "source": [
    "df = consolidate_df"
   ]
  },
  {
   "cell_type": "code",
   "execution_count": 350,
   "metadata": {},
   "outputs": [],
   "source": [
    "df = df.fillna(0)"
   ]
  },
  {
   "cell_type": "code",
   "execution_count": 351,
   "metadata": {},
   "outputs": [],
   "source": [
    "df['SP Price'] = df['Open']"
   ]
  },
  {
   "cell_type": "code",
   "execution_count": 354,
   "metadata": {},
   "outputs": [],
   "source": [
    "df.loc[df['TRANSACTION'] != 'REINVESTMENT', 'Trans SP Share Equiv'] = df['CASH']/df['SP Price']*-1"
   ]
  },
  {
   "cell_type": "code",
   "execution_count": 134,
   "metadata": {},
   "outputs": [],
   "source": [
    "df['Trans SP Share Equiv'] = df['Trans SP Share Equiv'].fillna(0)"
   ]
  },
  {
   "cell_type": "code",
   "execution_count": 357,
   "metadata": {},
   "outputs": [],
   "source": [
    "df['SP Port'] = df['Trans SP Share Equiv'].cumsum()"
   ]
  },
  {
   "cell_type": "code",
   "execution_count": 358,
   "metadata": {},
   "outputs": [],
   "source": [
    "#Where S&P Dividends paid, calculate additional shares and add to running total (based on 'SP Port' holdings)\n",
    "df.loc[df['Dividends'] !=0, 'SP Port Div Acq'] =  df['SP Port'] * (df['Dividends'] / df['SP Price'])\n",
    "df = df.fillna(0)\n",
    "df['SP Port Div Acq'] = df['SP Port Div Acq'].cumsum()\n",
    "#Add accumulated dividends to accumulated shares\n",
    "df['Total SP Port'] = df['SP Port'] + df['SP Port Div Acq']"
   ]
  },
  {
   "cell_type": "code",
   "execution_count": 359,
   "metadata": {},
   "outputs": [],
   "source": [
    "df['Port Cash'] = 0"
   ]
  },
  {
   "cell_type": "code",
   "execution_count": 360,
   "metadata": {},
   "outputs": [],
   "source": [
    "df = df[['Date', 'TRANSACTION', 'TICKER', 'DESCRIPTION', 'SHARES', 'CASH', 'SP Price', 'Dividends', 'Stock Splits', 'Trans SP Share Equiv', 'SP Port','SP Port Div Acq','Total SP Port', 'Port Cash']]"
   ]
  },
  {
   "cell_type": "code",
   "execution_count": 361,
   "metadata": {
    "scrolled": true
   },
   "outputs": [],
   "source": [
    "df.rename(columns = {'CASH':'COST'}, inplace = True)"
   ]
  },
  {
   "cell_type": "code",
   "execution_count": 369,
   "metadata": {},
   "outputs": [],
   "source": [
    "df.loc[df['TRANSACTION'] == 'REINVESTMENT', 'Reinvest Check'] = 1"
   ]
  },
  {
   "cell_type": "code",
   "execution_count": 371,
   "metadata": {},
   "outputs": [],
   "source": [
    "# Calculate Cash deposited and Cash held\n",
    "\n",
    "df['Port Cash'] = 0\n",
    "df['Cash Deposited'] = 0\n",
    "j = 0\n",
    "for i in df['COST']: \n",
    "    check = df.loc[[j],['Reinvest Check']]\n",
    "    if (float(i) > 0) & (check.iat[0,0] != 1):    \n",
    "        df.loc[[j],['Port Cash']] = df.loc[[j],['COST']].values  \n",
    "    if (float(i) < 0) & (check.iat[0,0] != 1):    \n",
    "        if df.loc[[j-1],['Port Cash']].values > 0:\n",
    "            df.loc[[j],['Port Cash']] = df.loc[[j],['COST']].values  \n",
    "        elif (check.iat[0,0] != 1):\n",
    "            df.loc[[j],['Cash Deposited']] = df.loc[[j],['COST']].values  \n",
    "    if j > 0:\n",
    "        df.loc[[j],['Port Cash']] = df.loc[[j],['Port Cash']].values + df.loc[[j-1],['Port Cash']].values\n",
    "        df.loc[[j],['Cash Deposited']] = df.loc[[j-1],['Cash Deposited']].values + df.loc[[j],['Cash Deposited']].values\n",
    "    j += 1"
   ]
  },
  {
   "cell_type": "code",
   "execution_count": 373,
   "metadata": {},
   "outputs": [],
   "source": [
    "#Calculate running total value of Hypothetical S&P Portfolio\n",
    "df['SP Port Value'] = df['Total SP Port'] * df['SP Price']"
   ]
  },
  {
   "cell_type": "code",
   "execution_count": null,
   "metadata": {},
   "outputs": [],
   "source": [
    "#%% Shift to Current "
   ]
  },
  {
   "cell_type": "code",
   "execution_count": 375,
   "metadata": {},
   "outputs": [],
   "source": [
    "df_SP_Only = df"
   ]
  },
  {
   "cell_type": "code",
   "execution_count": 376,
   "metadata": {},
   "outputs": [],
   "source": [
    "df = df.fillna(0)"
   ]
  },
  {
   "cell_type": "code",
   "execution_count": 378,
   "metadata": {},
   "outputs": [],
   "source": [
    "# Calculate Cash deposited and Cash held\n",
    "\n",
    "df['Actual Port Cash'] = 0\n",
    "df['Actual Cash Deposited'] = 0\n",
    "j = 0\n",
    "for i in df['COST']: \n",
    "    if float(i) > 0:    \n",
    "        df.loc[[j],['Actual Port Cash']] = df.loc[[j],['COST']].values  \n",
    "    if (float(i) < 0) & (check.iat[0,0] != 1):    \n",
    "        if df.loc[[j-1],['Actual Port Cash']].values > 0:\n",
    "            df.loc[[j],['Actual Port Cash']] = df.loc[[j],['COST']].values  \n",
    "        elif (check.iat[0,0] != 1):\n",
    "            df.loc[[j],['Actual Cash Deposited']] = df.loc[[j],['COST']].values  \n",
    "    if j > 0:\n",
    "        df.loc[[j],['Actual Port Cash']] = df.loc[[j],['Actual Port Cash']].values + df.loc[[j-1],['Actual Port Cash']].values\n",
    "        df.loc[[j],['Actual Cash Deposited']] = df.loc[[j-1],['Actual Cash Deposited']].values + df.loc[[j],['Actual Cash Deposited']].values\n",
    "    j += 1"
   ]
  },
  {
   "cell_type": "code",
   "execution_count": 380,
   "metadata": {},
   "outputs": [],
   "source": [
    "df.to_csv(r'C:\\Users\\Game\\Desktop\\Investments\\investments analyzed.csv')"
   ]
  }
 ],
 "metadata": {
  "kernelspec": {
   "display_name": "Python 3",
   "language": "python",
   "name": "python3"
  },
  "language_info": {
   "codemirror_mode": {
    "name": "ipython",
    "version": 3
   },
   "file_extension": ".py",
   "mimetype": "text/x-python",
   "name": "python",
   "nbconvert_exporter": "python",
   "pygments_lexer": "ipython3",
   "version": "3.8.5"
  }
 },
 "nbformat": 4,
 "nbformat_minor": 4
}
